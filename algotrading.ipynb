{
 "cells": [
  {
   "cell_type": "markdown",
   "id": "317c5e92",
   "metadata": {},
   "source": [
    "## Getting the training and testing data"
   ]
  },
  {
   "cell_type": "code",
   "execution_count": 1,
   "id": "0e55ff0c",
   "metadata": {},
   "outputs": [],
   "source": [
    "import yfinance\n",
    "import pandas"
   ]
  },
  {
   "cell_type": "code",
   "execution_count": 2,
   "id": "bb38abc5",
   "metadata": {},
   "outputs": [],
   "source": [
    "def get_stock_data(ticker: str, start_date: str, end_date: str) -> pandas.DataFrame:\n",
    "    data: pandas.DataFrame = yfinance.download(ticker, start=start_date, end=end_date, multi_level_index=False)\n",
    "    return data"
   ]
  },
  {
   "cell_type": "code",
   "execution_count": 3,
   "id": "e6a19042",
   "metadata": {},
   "outputs": [],
   "source": [
    "training_start_date: str = \"2012-01-01\"\n",
    "training_stop_date: str = \"2017-01-01\""
   ]
  },
  {
   "cell_type": "code",
   "execution_count": 4,
   "id": "a110d237",
   "metadata": {},
   "outputs": [
    {
     "name": "stdout",
     "output_type": "stream",
     "text": [
      "YF.download() has changed argument auto_adjust default to True\n"
     ]
    },
    {
     "name": "stderr",
     "output_type": "stream",
     "text": [
      "[*********************100%***********************]  1 of 1 completed\n"
     ]
    }
   ],
   "source": [
    "training_data: pandas.DataFrame = get_stock_data(\"AMZN\", training_start_date, training_stop_date)\n",
    "training_data.to_csv(\"training_data/AMZN.csv\")"
   ]
  },
  {
   "cell_type": "code",
   "execution_count": 5,
   "id": "d405604f",
   "metadata": {},
   "outputs": [],
   "source": [
    "test_start_date: str = \"2017-01-01\"\n",
    "test_stop_date: str = \"2020-01-01\""
   ]
  },
  {
   "cell_type": "code",
   "execution_count": 6,
   "id": "3d35cca0",
   "metadata": {},
   "outputs": [
    {
     "name": "stderr",
     "output_type": "stream",
     "text": [
      "[*********************100%***********************]  1 of 1 completed\n"
     ]
    }
   ],
   "source": [
    "testing_data: pandas.DataFrame = get_stock_data(\"AMZN\", test_start_date, test_stop_date)\n",
    "testing_data.to_csv(\"test_data/AMZN.csv\")"
   ]
  },
  {
   "cell_type": "markdown",
   "id": "48ba5b97",
   "metadata": {},
   "source": [
    "## Generating the training inputs and outputs"
   ]
  },
  {
   "cell_type": "code",
   "execution_count": null,
   "id": "afe0499d",
   "metadata": {},
   "outputs": [],
   "source": [
    "import csv"
   ]
  },
  {
   "cell_type": "code",
   "execution_count": 17,
   "id": "66dfca66",
   "metadata": {},
   "outputs": [
    {
     "name": "stdout",
     "output_type": "stream",
     "text": [
      "[['8.951499938964844', '8.973999977111816', '8.77750015258789', '8.794500350952148', '102216000', '8.875499725341797', '9.024999618530273', '8.803500175476074', '8.96049976348877', '84104000', '8.880499839782715', '8.912500381469727', '8.702500343322754', '8.79699993133545', '76182000', '9.130499839782715', '9.232500076293945', '8.875', '8.903499603271484', '140168000', '8.928000450134277', '9.218500137329102', '8.850000381469727', '9.137999534606934', '101138000'], ['8.875499725341797', '9.024999618530273', '8.803500175476074', '8.96049976348877', '84104000', '8.880499839782715', '8.912500381469727', '8.702500343322754', '8.79699993133545', '76182000', '9.130499839782715', '9.232500076293945', '8.875', '8.903499603271484', '140168000', '8.928000450134277', '9.218500137329102', '8.850000381469727', '9.137999534606934', '101138000', '8.967000007629395', '9.119999885559082', '8.854999542236328', '9.055000305175781', '79716000'], ['8.880499839782715', '8.912500381469727', '8.702500343322754', '8.79699993133545', '76182000', '9.130499839782715', '9.232500076293945', '8.875', '8.903499603271484', '140168000', '8.928000450134277', '9.218500137329102', '8.850000381469727', '9.137999534606934', '101138000', '8.967000007629395', '9.119999885559082', '8.854999542236328', '9.055000305175781', '79716000', '8.944999694824219', '9.03849983215332', '8.909500122070312', '8.982000350952148', '62054000'], ['9.130499839782715', '9.232500076293945', '8.875', '8.903499603271484', '140168000', '8.928000450134277', '9.218500137329102', '8.850000381469727', '9.137999534606934', '101138000', '8.967000007629395', '9.119999885559082', '8.854999542236328', '9.055000305175781', '79716000', '8.944999694824219', '9.03849983215332', '8.909500122070312', '8.982000350952148', '62054000', '8.796500205993652', '8.974499702453613', '8.787500381469727', '8.970999717712402', '107716000'], ['8.928000450134277', '9.218500137329102', '8.850000381469727', '9.137999534606934', '101138000', '8.967000007629395', '9.119999885559082', '8.854999542236328', '9.055000305175781', '79716000', '8.944999694824219', '9.03849983215332', '8.909500122070312', '8.982000350952148', '62054000', '8.796500205993652', '8.974499702453613', '8.787500381469727', '8.970999717712402', '107716000', '8.920999526977539', '8.9399995803833', '8.675000190734863', '8.790499687194824', '95070000']]\n",
      "[['8.967000007629395', '9.119999885559082', '8.854999542236328', '9.055000305175781', '79716000'], ['8.944999694824219', '9.03849983215332', '8.909500122070312', '8.982000350952148', '62054000'], ['8.796500205993652', '8.974499702453613', '8.787500381469727', '8.970999717712402', '107716000'], ['8.920999526977539', '8.9399995803833', '8.675000190734863', '8.790499687194824', '95070000'], ['9.083000183105469', '9.164999961853027', '8.92549991607666', '9.007499694824219', '112890000']]\n"
     ]
    }
   ],
   "source": [
    "input_datas = []\n",
    "output_datas = []\n",
    "\n",
    "with open(\"training_data/AMZN.csv\", newline=\"\") as training_file:\n",
    "    reader =  csv.reader(training_file)\n",
    "    prices = tuple(reader)[1:]\n",
    "    for idx in range(5, len(prices[5:-1])):\n",
    "        input_data = []\n",
    "        for i in range(-5, 0):\n",
    "            input_data.extend(prices[idx+i][1:])\n",
    "        input_datas.append(input_data)\n",
    "        output_datas.append(prices[idx][1:])\n",
    "\n",
    "print(input_datas[:5])\n",
    "print(output_datas[:5])"
   ]
  },
  {
   "cell_type": "markdown",
   "id": "6dbcf67f",
   "metadata": {},
   "source": [
    "## Training using scikit-learn"
   ]
  }
 ],
 "metadata": {
  "kernelspec": {
   "display_name": ".venv",
   "language": "python",
   "name": "python3"
  },
  "language_info": {
   "codemirror_mode": {
    "name": "ipython",
    "version": 3
   },
   "file_extension": ".py",
   "mimetype": "text/x-python",
   "name": "python",
   "nbconvert_exporter": "python",
   "pygments_lexer": "ipython3",
   "version": "3.13.2"
  }
 },
 "nbformat": 4,
 "nbformat_minor": 5
}
